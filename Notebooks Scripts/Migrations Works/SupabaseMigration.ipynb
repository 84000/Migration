{
 "cells": [
  {
   "cell_type": "code",
   "metadata": {
    "collapsed": false,
    "ExecuteTime": {
     "end_time": "2024-06-07T19:43:38.467868Z",
     "start_time": "2024-06-07T19:43:37.884358Z"
    }
   },
   "source": [
    "from supabase import create_client,Client\n",
    "import os\n",
    "# get environment variables from .env file\n",
    "import os\n",
    "\n",
    "def load_env():\n",
    "    with open('.env', 'r') as f:\n",
    "        for line in f:\n",
    "            if line.strip():\n",
    "                key, value = line.strip().split('=', 1)\n",
    "                os.environ[key] = value\n",
    "\n",
    "load_env()\n",
    "\n",
    "\n",
    "# get environment variables\n",
    "url: str = os.getenv(\"SUPABASE_URL\")\n",
    "key: str = os.getenv(\"SUPABASE_KEY\")\n",
    "supabase = create_client(url, key)\n",
    "\n"
   ],
   "outputs": [],
   "execution_count": 7
  },
  {
   "metadata": {},
   "cell_type": "code",
   "outputs": [],
   "execution_count": null,
   "source": ""
  },
  {
   "cell_type": "code",
   "source": [
    "# functions to load data\n",
    "import json\n",
    "import requests\n",
    "\n",
    "def get_translations(count):\n",
    "    url = 'https://read.84000-translate.org/translations.json?api-version=0.4.0'\n",
    "    response = requests.get(url)\n",
    "    works = json.loads(response.text)\n",
    "    # only return the required number of translations\n",
    "    return works['work'][:count]\n",
    "\n",
    "def get_work(Work_id):\n",
    "    work = json.loads(f\"\"\"../../data-json/{Work_id}.json\"\"\")\n",
    "    return work\n",
    "\n",
    "def get_titlte(work,WorkId):\n",
    "    titles = work['work'][0]['title']\n",
    "    titles_dicts = [dict({'work_uuid': WorkId,\n",
    "                          'content': title['content'],\n",
    "                          'titleType': title['titleType'],\n",
    "                          'language': title['language'],\n",
    "                          'titleMigrationId': title['titleMigrationId']}) for title in titles]\n",
    "    return titles_dicts\n",
    "\n",
    "def get_passages(work,WorkId):\n",
    "    passages = work['translation']['passage']\n",
    "    passage_dict = [dict({'work_uuid': WorkId,\n",
    "                          'content': passage['content'],\n",
    "                          'segmentationType': passage['segmentationType'],\n",
    "                          'xmlId': passage['xmlId'],\n",
    "                          'parentId': passage['parentId'],\n",
    "                          'passageLabel': passage['passageLabel'],\n",
    "                          'passageSort': passage['passageSort']}) for passage in passages]\n",
    "    return passage_dict\n"
   ],
   "metadata": {
    "collapsed": false,
    "ExecuteTime": {
     "end_time": "2024-06-07T19:49:48.242306Z",
     "start_time": "2024-06-07T19:49:48.236370Z"
    }
   },
   "outputs": [],
   "execution_count": 11
  },
  {
   "metadata": {
    "ExecuteTime": {
     "end_time": "2024-05-21T20:19:12.930481Z",
     "start_time": "2024-05-21T20:19:12.518215Z"
    }
   },
   "cell_type": "code",
   "source": [
    "# upsert into supabase\n",
    "def store_work(Current_Work,translation):\n",
    "    work_dict = dict({'xmlId': Current_Work['xmlId'],\n",
    "                       'url': Current_Work['url'],\n",
    "                       'type': Current_Work['workType'],\n",
    "                       'toh': Current_Work['toh'],\n",
    "                       'title': Current_Work['title'],\n",
    "                      'migrationJson': translation})\n",
    "    try:\n",
    "        work_data,count = supabase.table('works').insert(work_dict).execute()\n",
    "        return work_data[1][0]['uuid']\n",
    "    except Exception as e:\n",
    "        print (\"Error Occured\",e)\n",
    "        return None\n",
    "    \n",
    "    \n",
    "def store_titles(titles_dicts):\n",
    "    try:\n",
    "        title_data,count = supabase.table('titles').upsert(titles_dicts).execute()\n",
    "        print(\"Added\",len(title_data[1]))\n",
    "    except Exception as e:\n",
    "        print(\"Error Occured\",e)\n",
    "        # If error occurs delete all just inserted data\n",
    "        try:\n",
    "            if (title_data[1]):\n",
    "                for inserts in title_data[1]:\n",
    "                    print(inserts)\n",
    "                    data_temp,count_temp = supabase.table('titles').delete().eq('id',inserts['id']).execute()\n",
    "                    print('deleted',data_temp[1])\n",
    "        except IndexError:\n",
    "            print(\"No Data to Delete\")\n",
    "            \n",
    "def store_passages(passage_dict):\n",
    "    try:\n",
    "        passage_data,count = supabase.table('segments').upsert(passage_dict).execute()\n",
    "        print(\"Added\",len(passage_data[1]))\n",
    "    except Exception as e:\n",
    "        print(\"Error Occured\",e)\n",
    "        # If error occurs delete all just inserted data\n",
    "        try:\n",
    "            if (passage_data[1]):\n",
    "                for inserts in passage_data[1]:\n",
    "                    print(inserts)\n",
    "                    data_temp,count_temp = supabase.table('passages').delete().eq('id',inserts['id']).execute()\n",
    "                    print('deleted',data_temp[1])\n",
    "        except IndexError:\n",
    "            print(\"No Data to Delete\")\n"
   ],
   "outputs": [
    {
     "name": "stdout",
     "output_type": "stream",
     "text": [
      "Added 16\n"
     ]
    }
   ],
   "execution_count": 30
  },
  {
   "metadata": {
    "ExecuteTime": {
     "end_time": "2024-06-06T17:24:54.577405Z",
     "start_time": "2024-06-06T17:24:54.560965Z"
    }
   },
   "cell_type": "code",
   "source": [
    "# Excuter \n",
    "# 1. get required  number of translations\n",
    "# 2. Load the data into Supabase and get back the workId\n",
    "# 3. Get the work data from the local file\n",
    "# 4. Get the titles and passages\n",
    "# 5. Create Title and passage dictionary with WorkId\n",
    "\n",
    "def load_data(translation_count):\n",
    "    works = get_translations(translation_count)\n",
    "    for work in works['work']:\n",
    "        translation = get_work(WorkId)\n",
    "        titles_dicts = get_titlte(translation,WorkId)\n",
    "        passage_dict = get_passages(translation,WorkId)\n",
    "        \n",
    "        if ( translation && titles_dicts && passage_dict):\n",
    "            WorkId = store_work(work,translation)\n",
    "            if (WorkId):\n",
    "                store_titles(titles_dicts)\n",
    "                store_passages(passage_dict)\n",
    "    \n",
    "    return\n"
   ],
   "outputs": [],
   "execution_count": 6
  },
  {
   "metadata": {},
   "cell_type": "code",
   "outputs": [],
   "execution_count": null,
   "source": "load_data(1)"
  },
  {
   "metadata": {
    "ExecuteTime": {
     "end_time": "2024-06-07T19:52:22.022607Z",
     "start_time": "2024-06-07T19:52:21.253750Z"
    }
   },
   "cell_type": "code",
   "source": "display(get_translations(1))",
   "outputs": [
    {
     "data": {
      "text/plain": [
       "[{'workId': 'UT22084-001-001',\n",
       "  'workType': 'eft:translation',\n",
       "  'url': '/translation/UT22084-001-001.json?api-version=0.4.0&annotate=true',\n",
       "  'htmlUrl': 'https://read.84000.co/translation/UT22084-001-001.html',\n",
       "  'catalogueWorkIds': 'toh1-1'}]"
      ]
     },
     "metadata": {},
     "output_type": "display_data"
    }
   ],
   "execution_count": 13
  },
  {
   "metadata": {},
   "cell_type": "code",
   "outputs": [],
   "execution_count": null,
   "source": ""
  }
 ],
 "metadata": {
  "kernelspec": {
   "display_name": "Python 3",
   "language": "python",
   "name": "python3"
  },
  "language_info": {
   "codemirror_mode": {
    "name": "ipython",
    "version": 3
   },
   "file_extension": ".py",
   "mimetype": "text/x-python",
   "name": "python",
   "nbconvert_exporter": "python",
   "pygments_lexer": "ipython3",
   "version": "3.10.13"
  }
 },
 "nbformat": 4,
 "nbformat_minor": 0
}
